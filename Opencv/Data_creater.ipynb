{
 "cells": [
  {
   "cell_type": "code",
   "execution_count": 4,
   "metadata": {
    "scrolled": true
   },
   "outputs": [
    {
     "name": "stdout",
     "output_type": "stream",
     "text": [
      "Found 2 faces!\n",
      "Found 0 faces!\n",
      "Found 1 faces!\n",
      "Found 1 faces!\n",
      "Found 2 faces!\n",
      "Found 1 faces!\n",
      "Found 1 faces!\n",
      "Found 1 faces!\n",
      "Found 1 faces!\n",
      "Found 1 faces!\n",
      "Found 1 faces!\n",
      "Found 1 faces!\n",
      "Found 1 faces!\n",
      "Found 1 faces!\n",
      "Found 1 faces!\n",
      "Found 1 faces!\n",
      "Found 1 faces!\n",
      "Found 1 faces!\n",
      "Found 1 faces!\n",
      "Found 1 faces!\n",
      "Found 1 faces!\n",
      "Found 1 faces!\n",
      "Found 1 faces!\n",
      "Found 1 faces!\n",
      "Found 1 faces!\n",
      "Found 1 faces!\n",
      "Found 1 faces!\n"
     ]
    }
   ],
   "source": [
    "import cv2\n",
    "import sys\n",
    "import os\n",
    "import errno\n",
    "from glob import glob\n",
    "def create():\n",
    "\tfaceCascade = cv2.CascadeClassifier(\"C:/Users/Downloads/OpenCV/haarcascade_frontalface_default.xml\")\n",
    "\teye_left_cascade = cv2.CascadeClassifier(\"C:/Users/Downloads/OpenCV/haarcascade_lefteye_2splits.xml\")\n",
    "\teye_right_cascade = cv2.CascadeClassifier(\"C:/Users/Downloads/OpenCV/haarcascade_righteye_2splits.xml\")\n",
    "\tsmile_cascade = cv2.CascadeClassifier(\"C:/Users/Downloads/OpenCV/haarcascade_smile.xml\")\n",
    "\tm_directory = \"C:/Users/Downloads/OpenCV/faces\"\n",
    "\tdirectory_name = 'Your_Photo'\n",
    "\tpath = os.path.join(m_directory, directory_name)\n",
    "    \n",
    "\tif not os.path.isdir(path):\n",
    "\t\tos.mkdir(path)\n",
    "\n",
    "\twebcam = cv2.VideoCapture(0)\n",
    "\n",
    "\tfor nr in range(1, 30):\n",
    "\t\tret, frame = webcam.read()\n",
    "\t\tif ret == True:\n",
    "\t\t\tgray = cv2.cvtColor(frame, cv2.COLOR_BGR2GRAY)\n",
    "\t\t\tfaces = faceCascade.detectMultiScale(\n",
    "\t\t\t\tgray,\n",
    "\t\t\t\tscaleFactor = 1.07,\n",
    "\t\t\t\tminNeighbors = 8,\n",
    "\t\t\t\tminSize = (33,33),\n",
    "\t\t\t\tflags = cv2.cv.CV_HAAR_SCALE_IMAGE\n",
    "\t\t\t\t)\n",
    "\t\t\tprint \"Found {0} faces!\".format(len(faces))\n",
    "\t\t\tfor (x,y,w,h) in faces:\n",
    "\t\t\t\tcv2.rectangle(frame, (x,y), (x+w,y+h), (255,0,0), 2)\n",
    "\n",
    "\t\t\t\tgray_ = gray[y:y+h, x:x+w]\n",
    "\t\t\t\tcolor_ = frame[y:y+h, x:x+w] \n",
    "\t\t\t\tresizer = cv2.resize(gray_, (100, 100))\n",
    "\t\t\t\tcv2.imwrite('{!s}/{!s}.PNG'.format(path, nr), resizer)\n",
    "\t\t\t\treyes = eye_right_cascade.detectMultiScale(gray_, 1.06, 5)\n",
    "\n",
    "\t\t\t\tfor (xx,yy,ww,hh) in reyes:\n",
    "\t\t\t\t\tcv2.rectangle(color_, (xx,yy), (xx+ww,yy+hh), (0,255,0), 2)           \n",
    "\t\t\t\tleyes = eye_left_cascade.detectMultiScale(gray_, 1.06, 5)\n",
    "\n",
    "\t\t\t\tfor (xx,yy,ww,hh) in leyes:\n",
    "\t\t\t\t\tcv2.rectangle(color_, (xx,yy), (xx+ww,yy+hh), (255,0,0), 2)\n",
    "           \n",
    "\t\t\t\tsm = smile_cascade.detectMultiScale(gray_ , 1.4 , 43 )\n",
    "\t\t\t\tfor (xx,yy,ww,hh) in sm:\n",
    "\t\t\t\t\tcv2.rectangle(color_, (xx,yy), (xx+ww,yy+hh), (0 , 0 , 255) , 2)\n",
    "                \n",
    "\t\t\tcv2.imshow(\"VIEW\", frame)\n",
    "\t\t\tif cv2.waitKey(1000/11) & 0xFF == ord(\"q\"):\n",
    "\t\t\t\tbreak\n",
    "\n",
    "\t#webcam.release()\n",
    "\tcv2.destroyAllWindows()\n",
    "\n",
    "if __name__ == \"__main__\":\n",
    "    create()"
   ]
  }
 ],
 "metadata": {
  "kernelspec": {
   "display_name": "Python 2",
   "language": "python",
   "name": "python2"
  },
  "language_info": {
   "codemirror_mode": {
    "name": "ipython",
    "version": 2
   },
   "file_extension": ".py",
   "mimetype": "text/x-python",
   "name": "python",
   "nbconvert_exporter": "python",
   "pygments_lexer": "ipython2",
   "version": "2.7.13"
  }
 },
 "nbformat": 4,
 "nbformat_minor": 2
}
